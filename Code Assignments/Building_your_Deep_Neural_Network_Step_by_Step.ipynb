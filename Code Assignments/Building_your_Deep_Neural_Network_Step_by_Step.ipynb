{
  "nbformat": 4,
  "nbformat_minor": 0,
  "metadata": {
    "colab": {
      "provenance": []
    },
    "kernelspec": {
      "name": "python3",
      "display_name": "Python 3"
    },
    "language_info": {
      "name": "python"
    }
  },
  "cells": [
    {
      "cell_type": "markdown",
      "source": [
        "# Building your Deep Neural Network: Step by Step\n",
        "\n",
        "Welcome to your week 4 assignment (part 1 of 2)! You have previously trained a 2-layer Neural Network (with a single hidden layer). This week, you will build a deep neural network, with as many layers as you want!\n",
        "\n",
        "- In this notebook, you will implement all the functions required to build a deep neural network.\n",
        "- In the next assignment, you will use these functions to build a deep neural network for image classification.\n",
        "\n",
        "**After this assignment you will be able to**:\n",
        "\n",
        "- Use non-linear units like ReLU to improve your model\n",
        "- Build a deeper neural network (with more than 1 hidden layer)\n",
        "- Implement an easy-to-use neural network class\n",
        "\n",
        "**Notation**:\n",
        "\n",
        "- Superscript $[l]$ denotes a quantity associated with the $l^{th}$ layer. \\n\n",
        "    - Example: $a^{[L]}$ is the $L^{th}$ layer activation. $W^{[L]}$ and $b^{[L]}$ are the $L^{th}$ layer parameters.\\n\n",
        "- Superscript $(i)$ denotes a quantity associated with the $i^{th}$ example. \\n\n",
        "    - Example: $x^{(i)}$ is the $i^{th}$ training example.\\n\n",
        "- Lowerscript $i$ denotes the $i^{th}$ entry of a vector.\\n\n",
        "    - Example: $a^{[l]}_i$ denotes the $i^{th}$ entry of the $l^{th}$ layer's activations).\\n\n",
        "Let's get started!"
      ],
      "metadata": {
        "id": "QadEnWkP9aJG"
      }
    },
    {
      "cell_type": "markdown",
      "source": [
        "# 1 - Packages\n",
        "Let's first import all the packages that you will need during this assignment.\n",
        "- Numpy is the main package for scientific computing in python.\n",
        "- matplotlib is a library to plot graphs in Python.\n",
        "- dnn_utils provides some necessary functions for this notebook.\n",
        "- testCases provides some test cases to assess the correctness of your functions.\n",
        "- np.random.seed(1) is used to keep all the random function calls consistent. It will help us grade your work. Please don't. change the seed."
      ],
      "metadata": {
        "id": "1ZxluvUu-Sl7"
      }
    },
    {
      "cell_type": "code",
      "execution_count": 3,
      "metadata": {
        "id": "PzjLZqbV9H_4"
      },
      "outputs": [],
      "source": [
        "import numpy as np\n",
        "import h5py\n",
        "import matplotlib.pyplot as plt\n",
        "from testCases_v4a import *\n",
        "from dnn_utils_v2 import sigmoid, sigmoid_backward, relu, relu_backward\n",
        "\n",
        "%matplotlib inline\n",
        "plt.rcParams['figure.figsize'] = (5.0, 4.0) # set default size of plots\n",
        "plt.rcParams['image.interpolation'] = 'nearest'\n",
        "plt.rcParams['image.cmap'] = 'gray'\n",
        "\n",
        "%load_ext autoreload\n",
        "%autoreload 2\n",
        "\n",
        "np.random.seed(1)"
      ]
    },
    {
      "cell_type": "markdown",
      "source": [
        "# 2 - Outline of the Assignment\n",
        "\n",
        "To build your neural network, you will be implementing several \"helper functions\". These helper functions will be used in the next assignment to build a two-layer neural network and an L-layer neural network. Each small helper function you will implement will have detailed instructions that will walk you through the necessary steps. Here is an outline of this assignment, you will:\n",
        "\n",
        "- Initialize the parameters for a two-layer network and for an ${L}$-layer neural network.\n",
        "- Implement the forward propagation module (shown in purple in the figure below).\n",
        "    - Complete the LINEAR part of a layer's forward propagation step (resulting in ${Z}^[l]$).\n",
        "    - We give you the ACTIVATION function (relu/sigmoid).\n",
        "    - Combine the previous two steps into a new [LINEAR->ACTIVATION] forward function.\n",
        "    - Stack the [LINEAR->RELU] forward function L-1 time (for layers 1 through L-1) and add a [LINEAR->SIGMOID] at the end (for the final layer ${L}$). This gives you a new L_model_forward function.\n",
        "- Compute the loss.\n",
        "- Implement the backward propagation module (denoted in red in the figure below).\n",
        "    - Complete the LINEAR part of a layer's backward propagation step.\n",
        "We give you the gradient of the ACTIVATE function (relu_backward/sigmoid_backward)\n",
        "    - Combine the previous two steps into a new [LINEAR->ACTIVATION] backward function.\n",
        "    - Stack [LINEAR->RELU] backward L-1 times and add [LINEAR->SIGMOID] backward in a new L_model_backward function\n",
        "- Finally update the parameters.\n",
        "\n",
        "\n",
        "<image src=\"https://drive.google.com/file/d/1QeVbvUI7EIPV-FreRTBYsDCj1FCM1Op_/preview\" width=\"640\" height=\"480\" allow=\"autoplay\"></image>"
      ],
      "metadata": {
        "id": "trEFE_YV-74Z"
      }
    },
    {
      "cell_type": "markdown",
      "source": [
        "# 3 - Initialization\n",
        "You will write two helper functions that will initialize the parameters for your model. The first function will be used to initialize parameters for a two layer model. The second one will generalize this initialization process to ${L}$ layers.\n",
        "\n",
        "## 3.1 - 2-layer Neural Network\n",
        "**Exercise**: Create and initialize the parameters of the 2-layer neural network.\n",
        "\n",
        "**Instruction**:\n",
        "- The model's structure is: *LINEAR -> RELU -> LINEAR -> SIGMOID*.\n",
        "- Use random initialization for the weight matrices. Use `np.random.randn(shape)*0.01` with the correct shape.\n",
        "- Use zero initialization for the biases. Use `np.zeros(shape)`."
      ],
      "metadata": {
        "id": "nlIWpGhKDsO8"
      }
    },
    {
      "cell_type": "code",
      "source": [
        "def initialize_parameters(n_x, n_h, n_y):\n",
        "    \"\"\"\n",
        "    Argument:\n",
        "    n_x -- size of the input layer\n",
        "    n_h -- size of the hidden layer\n",
        "    n_y -- size of the output layer\n",
        "\n",
        "    Returns:\n",
        "    parameters -- python dictionary containing your parameters:\n",
        "                    W1 -- weight matrix of shape (n_h, n_x)\n",
        "                    b1 -- bias vector of shape (n_h, 1)\n",
        "                    W2 -- weight matrix of shape (n_y, n_h)\n",
        "                    b2 -- bias vector of shape (n_y, 1)\n",
        "    \"\"\"\n",
        "    np.random.seed(1)\n",
        "\n",
        "    # initialize parameters\n",
        "    W1 = np.random.randn(n_h, n_x)\n",
        "    b1 = np.zeros(shape = (n_h, 1))\n",
        "    W2 = np.random.randn(n_y, n_h)\n",
        "    b2 = np.zeros(shape = (n_y, 1))\n",
        "\n",
        "    # sanity checks to ensure that the shapes of the matrices and vectors being created are as expected\n",
        "    assert(W1.shape == (n_h, n_x))\n",
        "    assert(b1.shape == (n_h, 1))\n",
        "    assert(W2.shape == (n_y, n_h))\n",
        "    assert(b2.shape == (n_y, 1))\n",
        "\n",
        "    # create a dictionary to store all the parameters\n",
        "    parameters = {\"W1\": W1,\n",
        "                  \"b1\": b1,\n",
        "                  \"W2\": W2,\n",
        "                  \"b2\": b2}\n",
        "\n",
        "    return parameters\n",
        "\n",
        "\n",
        "# # initialize parameters\n",
        "# parameters = initialize_parameters(2, 2, 1)\n",
        "\n",
        "# print(\"W1 = \" + str(parameters[\"W1\"]))\n",
        "# print(\"b1 = \" + str(parameters[\"b1\"]))\n",
        "# print(\"W2 = \" + str(parameters[\"W2\"]))\n",
        "# print(\"b2 = \" + str(parameters[\"b2\"]))"
      ],
      "metadata": {
        "id": "m4vRQ490-7RX"
      },
      "execution_count": 30,
      "outputs": []
    },
    {
      "cell_type": "markdown",
      "source": [
        "**Expected output**:\n",
        "\n",
        "<table style=\\width:80%\\>\n",
        "  <tr>\n",
        "    <td> **W1** </td>\n",
        "    <td> [[ 0.01624345 -0.00611756]\n",
        " [-0.00528172 -0.01072969]] </td>\n",
        "  </tr>\n",
        "  <tr>\n",
        "    <td> **b1**</td>\n",
        "    <td>[[ 0.]\n",
        " [ 0.]]</td>\n",
        "  </tr>\n",
        "  <tr>\n",
        "    <td>**W2**</td>\n",
        "    <td> [[ 0.00865408 -0.02301539]]</td>\n",
        "  </tr>\n",
        "  <tr>\n",
        "    <td> **b2** </td>\n",
        "    <td> [[ 0.]] </td>\n",
        "  </tr>\n",
        "</table>"
      ],
      "metadata": {
        "id": "dc1nDRzxGS6P"
      }
    },
    {
      "cell_type": "markdown",
      "source": [
        "**Exercise**: Implement initialization for an L-layer Neural Network.\n",
        "\n",
        "**Instruction**:\n",
        "- The model's structure is *[LINEAR -> RELU] $ \\times$ (L-1) -> LINEAR -> SIGMOID*. I.e.,it has L - 1 layers using a ReLU activation function followed by an output layer with a sigmoid activation function.\n",
        "\n",
        "- Use random initialization for the weight matrices. Use `np.random.randn(shape) * 0.01`.\n",
        "- Use zeros initialization for the biases. Use `np.zeros(shape)`.\n",
        "- We will store $n^{[L]}$, the number of units in different layers, in a variable `layer_dims`. For example, the `layer_dims` for the \"Planar Data classification model\" from last week would have been [2, 4, 1]: There were two inputs, one hidden layer with 4 hidden units, and an ouput layer with 1 output unit. Thus means `W1`'s shape was (4, 2), `b1` was (4, 1), `W2` was (1, 4) and `b2` was (1, 1). Now you will generalize this to ${L}$ layers!\n",
        "- Here is the implementation for L = 1 (one layer neural network). It should inspire you to implement the general case (L-layer neural network).\n",
        "\n",
        "```python\n",
        "if L == 1:\n",
        "    parameters[\"W\" + str(L)] = np.random.randn(layer_dims[1], layer_dims[0]) * 0.01\n",
        "    parameters[\"b\" + str(L)] = np.zeros((layer_dims[1], 1))\n",
        "```\n"
      ],
      "metadata": {
        "id": "VJ7D45eEH9S7"
      }
    },
    {
      "cell_type": "code",
      "source": [
        "def initialize_parameters_deep(layer_dims):\n",
        "    \"\"\"\n",
        "    Arguments:\n",
        "    layer_dims -- python array (list) containing the dimensions of each layer in our network\n",
        "\n",
        "    Returns:\n",
        "    parameters -- python dictionary containing your parameters \"W1\", \"b1\", ..., \"WL\", \"bL\":\n",
        "                    Wl -- weight matrix of shape (layer_dims[l], layer_dims[l-1])\n",
        "                    bl -- bias vector of shape (layer_dims[l], 1)\n",
        "    \"\"\"\n",
        "    np.random.seed(3)\n",
        "    parameters = {}\n",
        "    L = len(layer_dims) # number of layers in the network\n",
        "\n",
        "    for l in range(1, L):\n",
        "        parameters[\"W\" + str(l)] = np.random.rand(layer_dims[l], layer_dims[l-1]) * 0.01\n",
        "        parameters[\"b\" + str(l)] = np.zeros(shape = (layer_dims[l], 1))\n",
        "\n",
        "        # sanity checks to ensure that the shapes of the matrices and vectors being created are as expected\n",
        "        assert(parameters['W' + str(l)].shape == (layer_dims[l], layer_dims[l - 1]))\n",
        "        assert(parameters['b' + str(l)].shape == (layer_dims[l], 1))\n",
        "\n",
        "    return parameters\n",
        "\n",
        "# parameters = initialize_parameters_deep([5,4,3])\n",
        "# print(\"W1 = \" + str(parameters[\"W1\"]))\n",
        "# print(\"b1 = \" + str(parameters[\"b1\"]))\n",
        "# print(\"W2 = \" + str(parameters[\"W2\"]))\n",
        "# print(\"b2 = \" + str(parameters[\"b2\"]))"
      ],
      "metadata": {
        "id": "pDDsNsfmGQ8A"
      },
      "execution_count": 31,
      "outputs": []
    },
    {
      "cell_type": "markdown",
      "source": [
        "# 4 - Forward propagation module\n",
        "\n",
        "Now that you've initialized your parameters, you will do the forward propagation module. You will start by implementing some basic functions that you will use later when implementing the model. You will complete three functions in this order:\n",
        "\n",
        "- LINEAR\n",
        "- LINEAR -> ACTIVATION where ACTIVATION will be either ReLU for Sigmoid.\n",
        "- [LINEAR -> RELU] $ \\times$ (L-1) -> LINEAR -> SIGMOID (whole model)\n",
        "\n",
        "## 4.1 - Linear Forward\n",
        "The linear forward module (vectorized over all the examples) computes the following equations:\n",
        "\n",
        "$$Z^{[l]} = W^{[l]}A^{[l-1]} +b^{[l]}$$\n",
        "\n",
        "where $A^[0] = X$.\n",
        "\n",
        "**Exercise**: Build the linear part of forward propagation.\n",
        "**Reminder**: The mathematical representation of this unit is $Z^{[l]} = W^{[l]}A^{[l-1]} + b^{[l]}$. You may also find `np.dot()` useful. If your dimensions don't match, printing `W.shape` may help.\n",
        "\n"
      ],
      "metadata": {
        "id": "kJKh8adjNGJb"
      }
    },
    {
      "cell_type": "code",
      "source": [
        "def linear_forward(A, W, b):\n",
        "    \"\"\"\n",
        "    Implement the linear part of a layer's forward propagation.\n",
        "\n",
        "    Arguments:\n",
        "    A -- activations from previous layer (or input data): (size of previous layer, number of examples)\n",
        "    W -- weights matrix: numpy array of shape (size of current layer, size of previous layer)\n",
        "    b -- bias vector, numpy array of shape (size of the current layer, 1)\n",
        "\n",
        "    Returns:\n",
        "    Z -- the input of the activation function, also called pre-activation parameter\n",
        "    cache -- a python dictionary containing \"A\", \"W\" and \"b\" ; stored for computing the backward pass efficiently\n",
        "    \"\"\"\n",
        "\n",
        "    Z = np.dot(W, A) + b\n",
        "\n",
        "    # sanity checks to ensure that the shapes of the matrices and vectors being created are as expected\n",
        "    assert(Z.shape == (W.shape[0], A.shape[1]))\n",
        "\n",
        "    cache = (A, W, b)\n",
        "\n",
        "    return Z, cache\n",
        "\n",
        "\n",
        "# A, W, b = linear_forward_test_case()\n",
        "\n",
        "# Z, linear_cache = linear_forward(A, W, b)\n",
        "# print(\"Z = \" + str(Z))"
      ],
      "metadata": {
        "id": "tQxkjMC-MZnW"
      },
      "execution_count": 32,
      "outputs": []
    },
    {
      "cell_type": "markdown",
      "source": [
        "## 4.2 - Linear-Activation Forward\n",
        "\n",
        "In this notebook, you will use two activation functions:\n",
        "- **sigmoid**: $\\sigma(Z) = \\sigma(WA + b) = \\frac{1}{1 + e^{-(WA + b)} }$. We have provided you with the sigmoid function. This function returns **two** items: the activation value \"`a`\" and a \"`cache`\" that contains \"`Z`\" (it's what we will feed in to the corresponding backward function). To use it you could just call:\n",
        "```python\n",
        " A, activation_cache = sigmoid(Z)\n",
        " ```\n",
        "- **ReLU**: The mathematical formula for ReLU is $A = ReLU = max(0, Z)$. We have provided you with the `relu` function. This function returns `two` items: the activation value \"`A`\" and a \"`cache`\" that contains \"`Z`\" (it's what we will feed in to the corresponding backward function). To use it you could just call:\n",
        "```python\n",
        "A, activation_cache = relu(Z)\n",
        "```\n",
        "\n",
        "For more convenience, you are going to group two functions (Linear and Activation) into one function (LINEAR -> ACTIVATION). Hence, you will implement a function that does the LINEAR forward step followed by an ACTIVATION forward step.\n",
        "\n",
        "**Exercise**: Implement the forward propagation of the *LINEAR -> ACTIVATION layer*. Mathematical relation is: $A^{[l]} = g(Z^{[l]}) = g(W^{[l]} A^{[l - 1]} + b^{[l]})$ where the activation \"g\" can be sigmoid() or relu(). Use linear_forward() and the correct activation function."
      ],
      "metadata": {
        "id": "ubAqGMLhQu-j"
      }
    },
    {
      "cell_type": "code",
      "source": [
        "def linear_activation_forward(A_prev, W, b, activation):\n",
        "    \"\"\"\n",
        "    Implement the forward propagation for the LINEAR->ACTIVATION layer\n",
        "\n",
        "    Arguments:\n",
        "    A_prev -- activations from previous layer (or input data): (size of previous layer, number of examples)\n",
        "    W -- weights matrix: numpy array of shape (size of current layer, size of previous layer)\n",
        "    b -- bias vector, numpy array of shape (size of the current layer, 1)\n",
        "    activation -- the activation to be used in this layer, stored as a text string: \"sigmoid\" or \"relu\"\n",
        "\n",
        "    Returns:\n",
        "    A -- the output of the activation function, also called the post-activation value\n",
        "    cache -- a python dictionary containing \"linear_cache\" and \"activation_cache\";\n",
        "             stored for computing the backward pass efficiently\n",
        "    \"\"\"\n",
        "\n",
        "    if activation == \"sigmoid\":\n",
        "        Z, linear_cache = linear_forward(A_prev, W, b)\n",
        "        A, activation_cache = sigmoid(Z)\n",
        "\n",
        "    elif activation == \"relu\":\n",
        "        Z, linear_cache = linear_forward(A_prev, W, b)\n",
        "        A, activation_cache = relu(Z)\n",
        "\n",
        "    \"\"\"\n",
        "    linear_cache stores A, W, b of each linear forward step\n",
        "    activation_cache stores what we will feed in to the corresponding backward function\n",
        "    \"\"\"\n",
        "\n",
        "    assert (A.shape == (W.shape[0], A_prev.shape[1]))\n",
        "    cache = (linear_cache, activation_cache)\n",
        "\n",
        "    return A, cache\n",
        "\n",
        "# A_prev, W, b = linear_activation_forward_test_case()\n",
        "\n",
        "# A, linear_activation_cache = linear_activation_forward(A_prev, W, b, activation = \"sigmoid\")\n",
        "# print(\"With sigmoid: A = \" + str(A))\n",
        "\n",
        "# A, linear_activation_cache = linear_activation_forward(A_prev, W, b, activation = \"relu\")\n",
        "# print(\"With ReLU: A = \" + str(A))\n",
        ""
      ],
      "metadata": {
        "id": "fKD8vl2eMbo1"
      },
      "execution_count": 33,
      "outputs": []
    },
    {
      "cell_type": "code",
      "source": [
        "def L_model_forward(X, parameters):\n",
        "    \"\"\"\n",
        "    Implement forward propagation for the [LINEAR->RELU]*(L-1)->LINEAR->SIGMOID computation\n",
        "\n",
        "    Arguments:\n",
        "    X -- data, numpy array of shape (input size, number of examples)\n",
        "    parameters -- output of initialize_parameters_deep()\n",
        "\n",
        "    Returns:\n",
        "    AL -- last post-activation value\n",
        "    caches -- list of caches containing:\n",
        "                every cache of linear_activation_forward() (there are L-1 of them, indexed from 0 to L-1)\n",
        "    \"\"\"\n",
        "    caches = []\n",
        "    A = X\n",
        "    L = len(parameters) // 2\n",
        "\n",
        "\n",
        "    # Implement [LINEAR -> RELU]*(L-1).\n",
        "    for l in range(1, L):\n",
        "        A_prev = A\n",
        "        A, cache = linear_activation_forward(A_prev,\n",
        "                                             parameters['W' + str(l)],\n",
        "                                             parameters['b' + str(l)],\n",
        "                                             activation = \"relu\")\n",
        "\n",
        "        # Add \"cache\" to the \"caches\" list.\n",
        "        caches.append(cache)\n",
        "\n",
        "    # Implement LINEAR -> SIGMOID\n",
        "    AL, cache = linear_activation_forward(A,\n",
        "                                          parameters['W' + str(L)],\n",
        "                                          parameters['b' + str(L)],\n",
        "                                          activation = \"sigmoid\")\n",
        "\n",
        "    # Add \"cache\" to the caches list\n",
        "    caches.append(cache)\n",
        "\n",
        "    # sanity checks to ensure that the shapes of the matrices and vectors being created are as expected\n",
        "    assert(AL.shape == (1,X.shape[1]))\n",
        "\n",
        "    return AL, caches\n",
        "\n",
        "\n",
        "# X, parameters = L_model_forward_test_case_2hidden()\n",
        "# AL, caches = L_model_forward(X, parameters)\n",
        "# print(\"AL = \" + str(AL))\n",
        "# print(\"Length of caches list = \" + str(len(caches)))"
      ],
      "metadata": {
        "id": "ZPt-89IOUr94"
      },
      "execution_count": 34,
      "outputs": []
    },
    {
      "cell_type": "markdown",
      "source": [
        "# 5 - Cost Function\n",
        "Now you will implement forward and backward propagation. You need to compute the cost, because you want to check if your model is actually learning.\n",
        "\n",
        "**Exercise**: Compute the cross-entropy cost $J$, using the following formula:\n",
        "$$-\\frac{1}{m}\\sum_{i = 1}^{m}(y^{(i)}log(a^{[L](i)}) + (1 - y^{(i)})log(1 - a^{[L](i)})$$ (7)"
      ],
      "metadata": {
        "id": "IV-oRT14YD8a"
      }
    },
    {
      "cell_type": "code",
      "source": [
        "def compute_cost(AL, Y):\n",
        "    \"\"\"\n",
        "    Implement the cost function defined by equation (7).\n",
        "\n",
        "    Arguments:\n",
        "    AL -- probability vector corresponding to your label predictions, shape (1, number of examples)\n",
        "    Y -- true \"label\" vector (for example: containing 0 if non-cat, 1 if cat), shape (1, number of examples)\n",
        "\n",
        "    Returns:\n",
        "    cost -- cross-entropy cost\n",
        "    \"\"\"\n",
        "\n",
        "    m = Y.shape[1]\n",
        "\n",
        "    # using vectorization to avoid explicit for loop through m examples\n",
        "    cost = (-1/m) * np.sum(np.multiply(Y, np.log(AL)) + np.multiply((1 - Y), np.log(1 - AL)))\n",
        "\n",
        "    # make sure the cost's shape is what expected (e.g. this turns [[17]] into 17)\n",
        "    cost = np.squeeze(cost)\n",
        "\n",
        "    # sanity check for cost's shape\n",
        "    assert(cost.shape == ())\n",
        "\n",
        "    return cost\n",
        "\n",
        "\n",
        "# Y, AL = compute_cost_test_case()\n",
        "\n",
        "# print(\"cost = \" + str(compute_cost(AL, Y)))"
      ],
      "metadata": {
        "id": "3Hofa8tuXutO"
      },
      "execution_count": 35,
      "outputs": []
    },
    {
      "cell_type": "markdown",
      "source": [
        "# 6 - Backward Propagation module\n",
        "\n",
        "Just like with forward propagation, you will implement helper functions for backpropagation. Remember that back propagation is used to calculate the gradient of the loss function with respect to the parameters.\n",
        "\n",
        "Now, similar to forward propagation, you are going to build the backward propagation in three steps:\n",
        "\n",
        "- LINEAR backward\n",
        "- LINEAR -> ACTIVATION backward where ACTIVATION computes the derivative of either the ReLU or sigmoid activation\n",
        "- [LINEAR -> RELU] $\\times$ (L-1) -> LINEAR -> SIGMOID backward (whole model)"
      ],
      "metadata": {
        "id": "esw0nYZTbvxo"
      }
    },
    {
      "cell_type": "markdown",
      "source": [
        "## 6.1 - Linear Backward\n",
        "\n",
        "For layer $l$, the linear part is: $Z^{[l]} = W^{[l]}A^{[l - 1]} + b^{[l]}$ (followed by an activation).\n",
        "\n",
        "Suppose you have already calculated the derivative $dZ^{[l]} = \\frac{\\partial L}{\\partial Z^{[l]}}$. -> You want to get ($dW^{[l]}, db^{[l]}, dA^{l - 1}$).\n",
        "\n",
        "The three output $dW^{[l]}, db^{[l]}, dA^{l - 1}$ are computed using the input $dZ^{[l]}$. Here are the formulas you need:\n",
        "\n",
        "$$dW^{[l]} = \\frac{\\partial L}{\\partial W^{[l]}} = \\frac{1}{m} dZ^{[l]}A^{[l - 1]T}$$\n",
        "\n",
        "$$db^{[l]} = \\frac{\\partial L}{\\partial b^{[l]}} = \\frac{1}{m} \\sum_{i = 1}^{m} dZ^{[l](i)}$$\n",
        "\n",
        "$$dA^{[l - 1]} = \\frac{\\partial L}{\\partial A^{[l - 1]}} = W^{[l]T}dZ^{[l]}$$\n",
        "\n",
        "**Exercise**: Use the 3 formulas above to implement linear_backward()."
      ],
      "metadata": {
        "id": "895h9Gr6eJS2"
      }
    },
    {
      "cell_type": "code",
      "source": [
        "def linear_backward(dZ, cache):\n",
        "    \"\"\"\n",
        "    Implement the linear portion of backward propagation for a single layer (layer l)\n",
        "\n",
        "    Arguments:\n",
        "    dZ -- Gradient of the cost with respect to the linear output (of current layer l)\n",
        "    cache -- tuple of values (A_prev, W, b) coming from the forward propagation in the current layer\n",
        "\n",
        "    Returns:\n",
        "    dA_prev -- Gradient of the cost with respect to the activation (of the previous layer l-1), same shape as A_prev\n",
        "    dW -- Gradient of the cost with respect to W (current layer l), same shape as W\n",
        "    db -- Gradient of the cost with respect to b (current layer l), same shape as b\n",
        "    \"\"\"\n",
        "\n",
        "    # retrieve parameters values from cache\n",
        "    A_prev, W, b = cache\n",
        "    m = A_prev.shape[1]\n",
        "\n",
        "    # (note that in backward propagation, the order will be reversed, so current layer is actually further from the output layer than the prev layer)\n",
        "\n",
        "    # compute derivatives\n",
        "    dW = np.dot(dZ, A_prev.T) / m\n",
        "    db = np.squeeze(np.sum(dZ) / m)\n",
        "    dA_prev = np.dot(W.T, dZ)\n",
        "\n",
        "    assert (dA_prev.shape == A_prev.shape)\n",
        "    assert (dW.shape == W.shape)\n",
        "    assert (isinstance(db, float))\n",
        "\n",
        "    return dA_prev, dW, db\n",
        "\n",
        "\n",
        "# # Set up some test inputs\n",
        "# dZ, linear_cache = linear_backward_test_case()\n",
        "\n",
        "# dA_prev, dW, db = linear_backward(dZ, linear_cache)\n",
        "# print (\"dA_prev = \"+ str(dA_prev))\n",
        "# print (\"dW = \" + str(dW))\n",
        "# print (\"db = \" + str(db))"
      ],
      "metadata": {
        "id": "uhh9c4ZzbJpZ"
      },
      "execution_count": 40,
      "outputs": []
    },
    {
      "cell_type": "markdown",
      "source": [
        "# 6.2 - Linear-Activation backward\n",
        "next, you will create a function that merges the two helper functions:\n",
        "`linear_backward` and the backward step for the activation `linear_activation_backward`.\n",
        "\n",
        "To help you implement `linear_activation_backward`, we provided two backward functions:\n",
        "\n",
        "- `sigmoid_backward`: implements the backward propagation for SIGMOID unit. You can call it as follows:\n",
        "```python\n",
        "dZ = sigmoid_backward(dA, activation_cache)\n",
        "```\n",
        "\n",
        "- `relu_backward`: implements the backward propagation for ReLU unit. You can call it as follows:\n",
        "```python\n",
        "dZ = relu_backward(dA, activation_cache)\n",
        "```\n",
        "\n",
        "if g(.) is tha activation function, `sigmoid_backward` and `relu_backward` compute\n",
        "\n",
        "$$ dZ^{[l]} = dA^{[l]} * g'^{(Z^{[l]})}$$\n",
        "\n",
        "**Exercise**: Implement the backpropagation for the *LINEAR -> ACTIVATION* layer."
      ],
      "metadata": {
        "id": "9COClaPrDKh4"
      }
    },
    {
      "cell_type": "code",
      "source": [
        "def linear_activation_backward(dA, cache, activation):\n",
        "    \"\"\"\n",
        "    Implement the backward propagation for the LINEAR->ACTIVATION layer.\n",
        "\n",
        "    Arguments:\n",
        "    dA -- post-activation gradient for current layer l\n",
        "    cache -- tuple of values (linear_cache, activation_cache) we store for computing backward propagation efficiently\n",
        "    activation -- the activation to be used in this layer, stored as a text string: \"sigmoid\" or \"relu\"\n",
        "\n",
        "    Returns:\n",
        "    dA_prev -- Gradient of the cost with respect to the activation (of the previous layer l-1), same shape as A_prev\n",
        "    dW -- Gradient of the cost with respect to W (current layer l), same shape as W\n",
        "    db -- Gradient of the cost with respect to b (current layer l), same shape as b\n",
        "    \"\"\"\n",
        "    linear_cache, activation_cache = cache\n",
        "\n",
        "    if activation == \"relu\":\n",
        "        dZ = relu_backward(dA, activation_cache)\n",
        "\n",
        "    elif activation == \"sigmoid\":\n",
        "        dZ = sigmoid_backward(dA, activation_cache)\n",
        "\n",
        "    # shorten the code\n",
        "    dA_prev, dW, db = linear_backward(dZ, linear_cache)\n",
        "\n",
        "    return dA_prev, dW, db"
      ],
      "metadata": {
        "id": "_szZZh6Od6Fc"
      },
      "execution_count": 1,
      "outputs": []
    },
    {
      "cell_type": "markdown",
      "source": [
        "# 6.3 - L-Model Backward\n",
        "Now you will implement the backward function for the whole network. Recall that when you implemented the `L_model_forward` function, at each iteration, you stored a cache which contains (X, W, b and z). In the back propagation module, you will use those variables to compute the gradients. Therefore, in the `L_model_backward` function, you will iterate through all the hidden layers backward, starting from layer $L$. On each step, you will use the cached values for layer $l$.\n",
        "\n",
        "```(repeat L - 1 times)[Linear <- ReLU] <- Linear <- Sigmoid <- Output```\n",
        "\n",
        "**Initializing backpropagation**: To backpropagate through this network, we know that the output is $A[L] = \\sigma(Z^{[L]})$. Your code thus needs to compute `dAL` $=\\frac{\\partial L}{\\partial A^{[L]}}$. To do so, use this formula (derived using calculus which you don't need in-depth knowledge of):\n",
        "```python\n",
        "dAL = -(np.divide(Y, AL) - np.divide(1 - Y, 1 - AL))    # derivative of cost with respect to AL\n",
        "```\n",
        "\n",
        "You can then use this post-activation gradient `dAL` to keep going backward. As seen in Figure 5, you can now feed in `dAL` into the LINEAR -> SIGMOID backward function you implemented (which will use the cached values stored by the L_model_forward_function). After that, you will have to use a `for` loop to iterate through all the other layers using the LINEAR -> RELU backward function. You should store each dA, dW, and db in the grads dictionary. To do so, use this formula:\n",
        "$$grads[\"dW\" + str(l)] = dW^{[l]}$$\n",
        "\n",
        "For example, for $l = 3$ this would store $dW^{[l]}$ in `grads[\"dW3\"]`.\n",
        "\n",
        "**Exercise**: Implement backpropagation for the [LINEAR -> RELU] $\\times$ (L - 1) -> LINEAR -> SIGMOID model."
      ],
      "metadata": {
        "id": "O1UlfIFtHPBY"
      }
    },
    {
      "cell_type": "code",
      "source": [
        "def L_model_backward(AL, Y, caches):\n",
        "    \"\"\"\n",
        "    Implement the backward propagation for the [LINEAR->RELU] * (L-1) -> LINEAR -> SIGMOID group\n",
        "\n",
        "    Arguments:\n",
        "    AL -- probability vector, output of the forward propagation (L_model_forward())\n",
        "    Y -- true \"label\" vector (containing 0 if non-cat, 1 if cat)\n",
        "    caches -- list of caches containing:\n",
        "                every cache of linear_activation_forward() with \"relu\" (it's caches[l], for l in range(L-1) i.e l = 0...L-2)\n",
        "                the cache of linear_activation_forward() with \"sigmoid\" (it's caches[L-1])\n",
        "\n",
        "    Returns:\n",
        "    grads -- A dictionary with the gradients\n",
        "             grads[\"dA\" + str(l)] = ...\n",
        "             grads[\"dW\" + str(l)] = ...\n",
        "             grads[\"db\" + str(l)] = ...\n",
        "    \"\"\"\n",
        "    grads = {}\n",
        "    L = len(caches) # number of layers\n",
        "    m = AL.shape[1]\n",
        "    Y = Y.reshape(AL.shape) # After this line, Y will have the same shape as AL\n",
        "\n",
        "    # Initialize the backpropagation\n",
        "    dAL = -(np.divide(Y, AL) - np.divide(1 - Y, 1 - AL))\n",
        "\n",
        "    # Lth layer (SIGMOID -> LINEAR) gradients. Inputs: \"AL, Y, caches\"\n",
        "    current_cache = caches[-1]\n",
        "    grads[\"dA\" + str(L)], grads[\"dW\" + str(L)], grads[\"db\" + str(L)] = linear_activation_backward(dAL, current_cache, activation = \"sigmoid\")\n",
        "\n",
        "    # Now we have dAL of the last layer, then have dWL, dbL, dAL-1 calculated using dAL for the SIGMOID -> LINEAR layer\n",
        "\n",
        "\n",
        "    # calculate each dWl, dbl, dAl-1 for the RELU -> LINEAR from layer L - 2 to the fist hidden layer\n",
        "    for l in reversed(range(L - 1)):\n",
        "        # lth layer: (RELU -> LINEAR) gradients.\n",
        "        # Inputs: \"grads[\"dA\" + str(l + 1)], current_cache\". Outputs: \"grads[\"dA\" + str(l)] , grads[\"dW\" + str(l + 1)] , grads[\"db\" + str(l + 1)]\n",
        "\n",
        "        # get the cache of the current layer\n",
        "        current_cache = caches[1]\n",
        "\n",
        "        # calculate dWl, dbl, dAl-1 based on current dA\n",
        "        dA_prev_temp, dW_temp, db_temp = linear_activation_backward(grads[\"dA\" + str(l + 1)], current_cache, activation = \"relu\")\n",
        "\n",
        "        # add the set of derivatives for the current layer to the dictionary\n",
        "        grads[\"dA\" + str(l)] = dA_prev_temp\n",
        "        grads[\"dW\" + str(l + 1)] = dW_temp\n",
        "        grads[\"db\" + str(l + 1)] = db_temp\n",
        "\n",
        "    return grads"
      ],
      "metadata": {
        "id": "hxozr-3tFUyL"
      },
      "execution_count": 4,
      "outputs": []
    },
    {
      "cell_type": "markdown",
      "source": [
        "# 6.4 - Update Parameters\n",
        "In this section you will update the parameters of the model, using gradient descent:\n",
        "\n",
        "$$ W^{[l]} = W^{[l]} - \\alpha \\times dW^{[l]} $$\n",
        "$$ b^{[l]} = b^{[l]} - \\alpha \\times db^{[l]} $$\n",
        "\n",
        "Where $\\alpha$ is the learning rate. After computing the updated parameters, store them in the parameters dictionary.\n",
        "\n",
        "**Exercise**: Implement `update_parameters()` to update your parameters using gradient descent.\n",
        "\n",
        "**Instructions**: Update parameters using gradient descent on every $W^{[l]}$ and $b^{[l]}$ for $l = 1, 2, ..., L$."
      ],
      "metadata": {
        "id": "bnIfm2FgTIhf"
      }
    },
    {
      "cell_type": "code",
      "source": [
        "def update_parameters(parameters, grads, learning_rate):\n",
        "    \"\"\"\n",
        "    Update parameters using gradient descent\n",
        "\n",
        "    Arguments:\n",
        "    parameters -- python dictionary containing your parameters\n",
        "    grads -- python dictionary containing your gradients, output of L_model_backward\n",
        "\n",
        "    Returns:\n",
        "    parameters -- python dictionary containing your updated parameters\n",
        "                  parameters[\"W\" + str(l)] = ...\n",
        "                  parameters[\"b\" + str(l)] = ...\n",
        "    \"\"\"\n",
        "    # number of layers in the neural network\n",
        "    L = len(parameters) // 2\n",
        "\n",
        "    # Update rule for each parameter. Use a for loop\n",
        "    for l in range(L):\n",
        "        parameters[\"W\" + str(l + 1)] = parameters[\"W\" + str(l + 1)] - learning_rate * grads[\"dW\" + str(l + 1)]\n",
        "        parameters[\"b\" + str(l + 1)] = parameters[\"b\" + str(l + 1)] - learning_rate * grads[\"db\" + str(l + 1)]\n",
        "\n",
        "    return parameters"
      ],
      "metadata": {
        "id": "fZMMrZ7KS4yv"
      },
      "execution_count": 6,
      "outputs": []
    },
    {
      "cell_type": "code",
      "source": [],
      "metadata": {
        "id": "0CuNA4KPW4LR"
      },
      "execution_count": null,
      "outputs": []
    }
  ]
}